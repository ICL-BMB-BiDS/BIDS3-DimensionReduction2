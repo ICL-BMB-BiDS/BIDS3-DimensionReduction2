{
 "cells": [
  {
   "cell_type": "markdown",
   "metadata": {},
   "source": [
    "# Dimensionality Reduction 2"
   ]
  },
  {
   "cell_type": "markdown",
   "metadata": {},
   "source": [
    "Learning objectives\n",
    "1. Apply NNMF and MDS to different data sets and interpret the outputs\n",
    "2. Learn how to visualise the model outputs\n",
    "3. Interpret the results and compare them with PCA"
   ]
  },
  {
   "cell_type": "code",
   "execution_count": null,
   "metadata": {},
   "outputs": [],
   "source": [
    "import pandas as pd \n",
    "import numpy as np\n",
    "import matplotlib.pyplot as plt\n",
    "import seaborn as sns\n",
    "from sklearn.decomposition import NMF, PCA\n",
    "from sklearn.neighbors import DistanceMetric\n",
    "from sklearn.manifold import MDS"
   ]
  },
  {
   "cell_type": "markdown",
   "metadata": {},
   "source": [
    "## Load in datasets\n",
    "Read in the omics datasets using the pandas [read_excel()](https://pandas.pydata.org/docs/reference/api/pandas.read_excel.html) function. For this example we will be using a urine metabolomics data from a diabetes cohort. "
   ]
  },
  {
   "cell_type": "code",
   "execution_count": null,
   "metadata": {},
   "outputs": [],
   "source": [
    "diabetes_urine_metab = pd.read_excel(\"../Data/diabetes_metabolomics_urine.xlsx\")"
   ]
  },
  {
   "cell_type": "code",
   "execution_count": null,
   "metadata": {},
   "outputs": [],
   "source": [
    "diabetes_urine_metab"
   ]
  },
  {
   "cell_type": "markdown",
   "metadata": {},
   "source": [
    "We can see there are several covariates in the first columns: Age, Gender, BMI, ETH, and T2D (diabetes status). To obtain just the metabolite relative abundance data, we can use `diabetes_urine_metab.iloc[:, 6:]`. This takes all rows of the data, and all columns after the 6th column."
   ]
  },
  {
   "cell_type": "markdown",
   "metadata": {},
   "source": [
    "## NMF"
   ]
  },
  {
   "cell_type": "markdown",
   "metadata": {},
   "source": [
    "We can use the [sklearn.NMF() function](https://scikit-learn.org/stable/modules/generated/sklearn.decomposition.NMF.html) to perform non-negative matrix factorisation on the dataset. We will initialise the model with five components, and use the \"random\" initialiser.\n",
    "\n",
    "The input matrix $V$ (the metabolomics dataset without covariates/metadata) will be factorised into the matrices $W$ (weights / projected data) and $H$ (factorization / principal components)\n",
    "\n",
    "$V \\approx WH$"
   ]
  },
  {
   "cell_type": "code",
   "execution_count": null,
   "metadata": {},
   "outputs": [],
   "source": [
    "# instantiate the NMF model\n",
    "# here we will select 5 components\n",
    "model = NMF(n_components=5, init='random', random_state=0)\n",
    "\n",
    "# set V as the input omics data matrix\n",
    "V = diabetes_urine_metab.iloc[:, 6:]\n",
    "\n",
    "# the weights matrix W is obtained by projecting the original data\n",
    "W = model.fit_transform(V)\n",
    "\n",
    "# the components matrix H is obtained by using the .components_ attribute\n",
    "H = model.components_\n"
   ]
  },
  {
   "cell_type": "markdown",
   "metadata": {},
   "source": [
    "Let's look a the shape of the resulting matrices:"
   ]
  },
  {
   "cell_type": "code",
   "execution_count": null,
   "metadata": {},
   "outputs": [],
   "source": [
    "W.shape"
   ]
  },
  {
   "cell_type": "code",
   "execution_count": null,
   "metadata": {},
   "outputs": [],
   "source": [
    "H.shape"
   ]
  },
  {
   "cell_type": "markdown",
   "metadata": {},
   "source": [
    "We should be able to approximately reconstruct the original matrix $V$ by calculating the product of $W$ and $H$"
   ]
  },
  {
   "cell_type": "code",
   "execution_count": null,
   "metadata": {},
   "outputs": [],
   "source": [
    "# obtain the dot product of the matrices W and H\n",
    "V_approx = pd.DataFrame(np.dot(W, H))\n",
    "\n",
    "# This is the same shape as the original matrix V\n",
    "V_approx.shape"
   ]
  },
  {
   "cell_type": "markdown",
   "metadata": {},
   "source": [
    "We can compare the two matrices V and V_approx by eye:"
   ]
  },
  {
   "cell_type": "code",
   "execution_count": null,
   "metadata": {},
   "outputs": [],
   "source": [
    "V_approx"
   ]
  },
  {
   "cell_type": "code",
   "execution_count": null,
   "metadata": {},
   "outputs": [],
   "source": [
    "V"
   ]
  },
  {
   "cell_type": "markdown",
   "metadata": {},
   "source": [
    "We can also estimate the reconstruction error using the Frobenius norm:"
   ]
  },
  {
   "cell_type": "code",
   "execution_count": null,
   "metadata": {},
   "outputs": [],
   "source": [
    "model.reconstruction_err_"
   ]
  },
  {
   "cell_type": "markdown",
   "metadata": {},
   "source": [
    "How does the reconstruction error change as you vary `n_components`?"
   ]
  },
  {
   "cell_type": "markdown",
   "metadata": {},
   "source": [
    "### Interpreting NMF"
   ]
  },
  {
   "cell_type": "markdown",
   "metadata": {},
   "source": [
    "The $H$ matrix contains the loadings or principal components, summarising the importance of each feature (metabolites in this case) in the new components, of which we have selected 5."
   ]
  },
  {
   "cell_type": "code",
   "execution_count": null,
   "metadata": {},
   "outputs": [],
   "source": [
    "# add metabolite names to the matrix H to help interpretation\n",
    "H_df = pd.DataFrame(H.T, columns=range(1, H.shape[0]+1), index=V.columns)"
   ]
  },
  {
   "cell_type": "code",
   "execution_count": null,
   "metadata": {},
   "outputs": [],
   "source": [
    "H_df"
   ]
  },
  {
   "cell_type": "markdown",
   "metadata": {},
   "source": [
    "If we sort each column, we can determine the most important metabolites driving each component (1-5)\n"
   ]
  },
  {
   "cell_type": "code",
   "execution_count": null,
   "metadata": {},
   "outputs": [],
   "source": [
    "# for each component, print out the top 5 features driving that component\n",
    "for col in H_df:\n",
    "    print(\"Component: \"+ str(col))\n",
    "    print(H_df[col].sort_values(ascending=False)[0:5].index.tolist())"
   ]
  },
  {
   "cell_type": "markdown",
   "metadata": {},
   "source": [
    "Visualise the first (not top) 20 metabolites in the metabolomics data, alongside their contribution to the 5 latent factors:"
   ]
  },
  {
   "cell_type": "code",
   "execution_count": null,
   "metadata": {},
   "outputs": [],
   "source": [
    "plt.figure(figsize=(8, 8))\n",
    "plt.imshow(H_df.iloc[0:20, :], cmap=\"viridis\")\n",
    "plt.yticks(range(len(H_df.iloc[0:20, :].index)), H_df.iloc[0:20, :].index)\n",
    "plt.xticks(range(0, 5), [1, 2, 3, 4, 5])\n",
    "plt.colorbar()\n",
    "plt.show()"
   ]
  },
  {
   "cell_type": "markdown",
   "metadata": {},
   "source": [
    "Visualise the first two components of the NMF projected data ($W$) using a scatterplot:"
   ]
  },
  {
   "cell_type": "code",
   "execution_count": null,
   "metadata": {},
   "outputs": [],
   "source": [
    "sns.set_style(\"ticks\")\n",
    "sns.set_context(\"notebook\")\n",
    "plt.figure(figsize=(8, 8))\n",
    "\n",
    "p = sns.scatterplot(x=W[:, 0],\n",
    " y=W[:, 1], \n",
    " hue=diabetes_urine_metab[\"T2D\"])\n",
    "\n",
    "p.set_xlabel(\"Dim 1\")\n",
    "p.set_ylabel(\"Dim 2\")\n",
    "\n",
    "plt.show()"
   ]
  },
  {
   "cell_type": "markdown",
   "metadata": {},
   "source": [
    "We can also plot a heatmap using the NMF projected data $W$, which clusters the samples based on T2D status using the five latent factors:"
   ]
  },
  {
   "cell_type": "code",
   "execution_count": null,
   "metadata": {},
   "outputs": [],
   "source": [
    "sns.clustermap(W.T,\n",
    "col_colors=[\"tab:orange\" if i == 1 else \"tab:blue\" for i in diabetes_urine_metab[\"T2D\"]],\n",
    "row_colors=sns.color_palette(\"tab10\"),\n",
    "xticklabels=False)\n",
    "\n",
    "plt.show()"
   ]
  },
  {
   "cell_type": "markdown",
   "metadata": {},
   "source": [
    "### NMF parameters: alpha and L1 ratio\n",
    "Find the full list of parameters [here](https://scikit-learn.org/stable/modules/generated/sklearn.decomposition.NMF.html) with explanations and default values. "
   ]
  },
  {
   "cell_type": "markdown",
   "metadata": {},
   "source": [
    "We can control the amount of regularisation in the NMF model by adjusting the $L1$ and $L2$ priors. The amount of L1 to L2 reqularisation can be controlled by setting the `l1_ratio`. The intensity of the regularisation can be set using the `alpha_W` and `alpha_H` parameters. By default, `alpha_W` is set to 0.0, and `alpha_H` is set to the same as `alpha_W`.\n",
    "\n",
    "The `l1_ratio` is set to 0.0 by default. For l1_ratio = 0 the penalty is an elementwise L2 penalty (aka Frobenius Norm). For l1_ratio = 1 it is an elementwise L1 penalty. For 0 < l1_ratio < 1, the penalty is a combination of L1 and L2.\n",
    "\n",
    "Read in more detail about the various sklearn NMF parameters [here](https://scikit-learn.org/stable/modules/decomposition.html#nmf)."
   ]
  },
  {
   "cell_type": "code",
   "execution_count": null,
   "metadata": {},
   "outputs": [],
   "source": [
    "# instantiate the NMF model\n",
    "# set the L1 ratio to 0.5\n",
    "model_l1_05 = NMF(n_components=5, init='random', l1_ratio=0.5, alpha_W=0.5)\n",
    "\n",
    "# set V as the input omics data matrix\n",
    "V = diabetes_urine_metab.iloc[:, 6:]\n",
    "\n",
    "# the weights matrix W is obtained by projecting the original data\n",
    "W_l1_05 = model.fit_transform(V)\n",
    "\n",
    "# the components matrix H is obtained by using the .components_ attribute\n",
    "H_l1_05 = model.components_"
   ]
  },
  {
   "cell_type": "code",
   "execution_count": null,
   "metadata": {},
   "outputs": [],
   "source": [
    "# instantiate the NMF model\n",
    "# set the L1 ratio to 0.5\n",
    "model_l1_08 = NMF(n_components=5, init='random', l1_ratio=0, alpha_W=1)\n",
    "\n",
    "# the weights matrix W is obtained by projecting the original data\n",
    "W_l1_08 = model.fit_transform(V)\n",
    "\n",
    "# the components matrix H is obtained by using the .components_ attribute\n",
    "H_l1_08 = model.components_"
   ]
  },
  {
   "cell_type": "markdown",
   "metadata": {},
   "source": [
    "## Multi dimensional scaling (MDS)"
   ]
  },
  {
   "cell_type": "markdown",
   "metadata": {},
   "source": [
    "[Multidimensional scaling](https://scikit-learn.org/0.24/modules/manifold.html#multidimensional-scaling) (MDS) seeks a low-dimensional representation of the data in which the distances respect well the distances in the original high-dimensional space. MDS (both metric and non-metric) can be performed using the sklearn.[MDS()](https://scikit-learn.org/stable/modules/generated/sklearn.manifold.MDS.html) function."
   ]
  },
  {
   "cell_type": "markdown",
   "metadata": {},
   "source": [
    "### Metric MDS"
   ]
  },
  {
   "cell_type": "code",
   "execution_count": null,
   "metadata": {},
   "outputs": [],
   "source": [
    "embedding = MDS(n_components=2, metric=True)"
   ]
  },
  {
   "cell_type": "code",
   "execution_count": null,
   "metadata": {},
   "outputs": [],
   "source": [
    "embedding_euclidean = embedding.fit_transform(diabetes_urine_metab.iloc[:, 6:])"
   ]
  },
  {
   "cell_type": "markdown",
   "metadata": {},
   "source": [
    "Visualise the first two MDS components:"
   ]
  },
  {
   "cell_type": "code",
   "execution_count": null,
   "metadata": {},
   "outputs": [],
   "source": [
    "sns.set_style(\"ticks\")\n",
    "sns.set_context(\"notebook\")\n",
    "plt.figure(figsize=(8, 8))\n",
    "\n",
    "p = sns.scatterplot(x=embedding_euclidean[:, 0],\n",
    " y=embedding_euclidean[:, 1], \n",
    " hue=diabetes_urine_metab[\"T2D\"])\n",
    "\n",
    "p.set_xlabel(\"Dim 1\")\n",
    "p.set_ylabel(\"Dim 2\")\n",
    "plt.title(\"Metric MDS\")\n",
    "plt.show()"
   ]
  },
  {
   "cell_type": "markdown",
   "metadata": {},
   "source": [
    "### Dissimilarity metrics\n",
    "We can use different metrics to compute the dissimilarity matrix for metric MDS. The default option used in the MDS function is Euclidean distance. We can otherwise specify `dissimilarity = \"precomputed\"`. Here we provide a dissimilarity matrix we have already computed. \n",
    "\n",
    "We can compute the dissimilarity matrix using [various metrics](https://scikit-learn.org/0.24/modules/generated/sklearn.neighbors.DistanceMetric.html)."
   ]
  },
  {
   "cell_type": "markdown",
   "metadata": {},
   "source": [
    "Running MDS on a precomputed Manhattan distance dissimilarity matrix"
   ]
  },
  {
   "cell_type": "code",
   "execution_count": null,
   "metadata": {},
   "outputs": [],
   "source": [
    "manhattan_dist = DistanceMetric.get_metric('manhattan').pairwise(diabetes_urine_metab.iloc[:, 6:])\n",
    "\n",
    "embedding_manhattan = MDS(n_components=2, metric=True, dissimilarity=\"precomputed\")\n",
    "MDS_manhattan = embedding_manhattan.fit_transform(manhattan_dist)"
   ]
  },
  {
   "cell_type": "markdown",
   "metadata": {},
   "source": [
    "and Minkowski distance"
   ]
  },
  {
   "cell_type": "code",
   "execution_count": null,
   "metadata": {},
   "outputs": [],
   "source": [
    "minkowski_dist = DistanceMetric.get_metric('minkowski').pairwise(diabetes_urine_metab.iloc[:, 6:])\n",
    "\n",
    "embedding_minkowski = MDS(n_components=2, metric=True, dissimilarity=\"precomputed\")\n",
    "MDS_minkowski = embedding_minkowski.fit_transform(minkowski_dist)"
   ]
  },
  {
   "cell_type": "markdown",
   "metadata": {},
   "source": [
    "Compare the results obtained using metric MDS with different dissimilarity metrics:"
   ]
  },
  {
   "cell_type": "code",
   "execution_count": null,
   "metadata": {},
   "outputs": [],
   "source": [
    "fig, (ax1, ax2, ax3) = plt.subplots(1, 3, figsize=(15, 5))\n",
    "\n",
    "sns.scatterplot(x=embedding_euclidean[:, 0], y=embedding_euclidean[:, 1], hue=diabetes_urine_metab[\"T2D\"], ax=ax1)\n",
    "ax1.set_title(\"Euclidean\")\n",
    "\n",
    "sns.scatterplot(x=MDS_manhattan[:, 0], y=MDS_manhattan[:, 1], hue=diabetes_urine_metab[\"T2D\"], ax=ax2)\n",
    "ax2.set_title(\"Manhattan\")\n",
    "\n",
    "sns.scatterplot(x=MDS_minkowski[:, 0], y=MDS_minkowski[:, 1], hue=diabetes_urine_metab[\"T2D\"], ax=ax3)\n",
    "ax3.set_title(\"Minkowski\")\n",
    "\n",
    "plt.tight_layout()\n",
    "plt.show()"
   ]
  },
  {
   "cell_type": "markdown",
   "metadata": {},
   "source": [
    "Using previous code examples, compute another similarity metric based on the metabolomics data (full list [here](https://scikit-learn.org/0.24/modules/generated/sklearn.neighbors.DistanceMetric.html)) and visualise the first two components using a scatterplot:"
   ]
  },
  {
   "cell_type": "code",
   "execution_count": null,
   "metadata": {},
   "outputs": [],
   "source": [
    "# Write code here..."
   ]
  },
  {
   "cell_type": "markdown",
   "metadata": {},
   "source": [
    "### Non-metric MDS\n",
    "To compute non-metric MDS, set the parameter `metric=False`"
   ]
  },
  {
   "cell_type": "code",
   "execution_count": null,
   "metadata": {},
   "outputs": [],
   "source": [
    "embedding_nonmetric = MDS(n_components=2, metric=False)\n",
    "diabetes_urine_metab_transformed_nMDS = embedding_nonmetric.fit_transform(diabetes_urine_metab.iloc[:, 6:])"
   ]
  },
  {
   "cell_type": "markdown",
   "metadata": {},
   "source": [
    "Visualise the first two non-metric MDS components:"
   ]
  },
  {
   "cell_type": "code",
   "execution_count": null,
   "metadata": {},
   "outputs": [],
   "source": [
    "sns.set_style(\"ticks\")\n",
    "sns.set_context(\"notebook\")\n",
    "plt.figure(figsize=(8, 8))\n",
    "\n",
    "p = sns.scatterplot(x=diabetes_urine_metab_transformed_nMDS[:, 0],\n",
    " y=diabetes_urine_metab_transformed_nMDS[:, 1], \n",
    " hue=diabetes_urine_metab[\"T2D\"])\n",
    "\n",
    "p.set_xlabel(\"Dim 1\")\n",
    "p.set_ylabel(\"Dim 2\")\n",
    "plt.title(\"Non-metric MDS\")\n",
    "plt.show()"
   ]
  },
  {
   "cell_type": "markdown",
   "metadata": {},
   "source": [
    "## How do NNMF and MDS compare with PCA?"
   ]
  },
  {
   "cell_type": "markdown",
   "metadata": {},
   "source": [
    "Using what you have learnt from the previous tutorial on PCA, scale the input metabolomics data, apply PCA and project the metabolomics data into the latent space, and visualise the data using a scatterplot. Colour the datapoints by Type 2 diabetes status \"T2D\"."
   ]
  },
  {
   "cell_type": "code",
   "execution_count": null,
   "metadata": {},
   "outputs": [],
   "source": [
    "# import scaler\n",
    "from sklearn.preprocessing import StandardScaler\n",
    "\n",
    "# scale the data\n",
    "diabetes_urine_metab_scaled = StandardScaler().fit_transform(diabetes_urine_metab.iloc[:, 6:])"
   ]
  },
  {
   "cell_type": "code",
   "execution_count": null,
   "metadata": {},
   "outputs": [],
   "source": [
    "# perform PCA and project the data\n",
    "pca_res = PCA(n_components=2).fit_transform(diabetes_urine_metab_scaled)"
   ]
  },
  {
   "cell_type": "code",
   "execution_count": null,
   "metadata": {},
   "outputs": [],
   "source": [
    "# plot two components of the projected data on a scatter plot\n",
    "sns.set_style(\"ticks\")\n",
    "sns.set_context(\"notebook\")\n",
    "plt.figure(figsize=(8, 8))\n",
    "\n",
    "p = sns.scatterplot(x=pca_res[:, 0],\n",
    " y=pca_res[:, 1],\n",
    " hue=diabetes_urine_metab[\"T2D\"])\n",
    "\n",
    "p.set_xlabel(\"PC1\")\n",
    "p.set_ylabel(\"PC2\")\n",
    "\n",
    "plt.title(\"PCA\")\n",
    "\n",
    "plt.show()"
   ]
  },
  {
   "cell_type": "code",
   "execution_count": null,
   "metadata": {},
   "outputs": [],
   "source": [
    "fig, (ax1, ax2, ax3) = plt.subplots(1, 3, figsize=(15, 5))\n",
    "\n",
    "sns.scatterplot(x=pca_res[:, 0], y=pca_res[:, 1], hue=diabetes_urine_metab[\"T2D\"], ax=ax1)\n",
    "ax1.set_title(\"PCA\")\n",
    "\n",
    "sns.scatterplot(x=W[:, 0], y=W[:, 1], hue=diabetes_urine_metab[\"T2D\"], ax=ax2)\n",
    "ax2.set_title(\"NNMF\")\n",
    "\n",
    "sns.scatterplot(x=embedding_euclidean[:, 0], y=embedding_euclidean[:, 1], hue=diabetes_urine_metab[\"T2D\"], ax=ax3)\n",
    "ax3.set_title(\"MDS (metric)\")\n",
    "\n",
    "plt.tight_layout()\n",
    "plt.show()"
   ]
  },
  {
   "cell_type": "markdown",
   "metadata": {},
   "source": [
    "Note - look at the axes: using NNMF all weights are POSITIVE, unlike in PCA or MDS"
   ]
  },
  {
   "cell_type": "markdown",
   "metadata": {},
   "source": [
    "## Your turn\n",
    "Choose one of the other omics datasets in the `Data` folder and perform either MDS or NNMF on it. Visualise the results."
   ]
  },
  {
   "cell_type": "code",
   "execution_count": null,
   "metadata": {},
   "outputs": [],
   "source": [
    "# Import dataset"
   ]
  },
  {
   "cell_type": "code",
   "execution_count": null,
   "metadata": {},
   "outputs": [],
   "source": [
    "# Perform NNMF/MDS"
   ]
  },
  {
   "cell_type": "code",
   "execution_count": null,
   "metadata": {},
   "outputs": [],
   "source": [
    "# Visualise the results"
   ]
  }
 ],
 "metadata": {
  "interpreter": {
   "hash": "b36f82fc6ec7da3c99303f5c6c1c64ad749da77112fc70d0beec9ca6a90b9819"
  },
  "kernelspec": {
   "display_name": "py10",
   "language": "python",
   "name": "py10"
  },
  "language_info": {
   "codemirror_mode": {
    "name": "ipython",
    "version": 3
   },
   "file_extension": ".py",
   "mimetype": "text/x-python",
   "name": "python",
   "nbconvert_exporter": "python",
   "pygments_lexer": "ipython3",
   "version": "3.10.0"
  },
  "orig_nbformat": 4
 },
 "nbformat": 4,
 "nbformat_minor": 2
}
